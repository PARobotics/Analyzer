{
 "cells": [
  {
   "cell_type": "markdown",
   "metadata": {
    "collapsed": true
   },
   "source": [
    "# Cone Lift Control Data Analyzer\n",
    "\n",
    "Parses and plots the data from the cone lift in order to fine tune its PID parameters\n",
    "\n",
    "## Usage\n",
    "\n",
    "* Set `dataUrl` to a link which points to the raw txt file you want to process. \n",
    "* Set the variables `useLift1` and `useLift2` to either true or false to determine whether or not to parse data from the respective lift joint.\n",
    "* Set `outputText`, `plotTarget`, `plotValue`, `plotDistanceToTarget`, `plotSpeed`, and `plotAppliedVoltage` to customize the output style\n",
    "\n",
    "Run the parser by clicking in the cell with code, and pressing the \"run\" button (located in the row of icons, it looks like a play/pause symbol).\n"
   ]
  },
  {
   "cell_type": "code",
   "execution_count": 4,
   "metadata": {
    "scrolled": true
   },
   "outputs": [
    {
     "data": {
      "image/png": "[encoded data removed]",
      "text/plain": [
       "<matplotlib.figure.Figure at 0x1149b43c8>"
      ]
     },
     "metadata": {},
     "output_type": "display_data"
    }
   ],
   "source": [
    "%matplotlib inline   \n",
    "import urllib.request\n",
    "import numpy as np\n",
    "import matplotlib.pyplot as plt\n",
    "\n",
    "dataUrl = \"https://raw.githubusercontent.com/PARobotics/Analysis-Data/master/2017-2018/August/15/Cone%20Lift%20Hold/1.txt\"\n",
    "useLift1 = False\n",
    "useLift2 = True\n",
    "outputText = False\n",
    "\n",
    "plotTarget = 0\n",
    "plotValue = 0\n",
    "plotDistanceToTarget = 1\n",
    "plotSpeed = 0\n",
    "plotAppliedVoltage = 1\n",
    "\n",
    "if useLift1: lift1Lines = []\n",
    "if useLift2: lift2Lines = []\n",
    "\n",
    "with urllib.request.urlopen(dataUrl) as url:\n",
    "    s = url.read().decode(\"utf8\").split(\"\\n\")   \n",
    "    \n",
    "for line in s:\n",
    "    if useLift1 and \"[LIFT 1] \" in line and len(line.split(\" \")) == 6: \n",
    "        line = line.replace(\"[LIFT 1] \", \"\")\n",
    "        lift1Lines.append(line)\n",
    "    if useLift2 and \"[LIFT 2] \" in line and len(line.split(\" \")) == 6: \n",
    "        line = line.replace(\"[LIFT 2] \", \"\")\n",
    "        lift2Lines.append(line)\n",
    "        \n",
    "\n",
    "if useLift1:\n",
    "    plt.figure(figsize = (16,12))\n",
    "    \n",
    "    target = []\n",
    "    value = []\n",
    "    speed = []\n",
    "    appliedVoltage = []\n",
    "    distanceToTarget = []\n",
    "    \n",
    "    for line in lift1Lines:\n",
    "        if outputText: print(line)\n",
    "        line = line.replace(\"\\r\", \"\").split(\" \")\n",
    "        if plotTarget and len(line[0]) <= 5 and len(line[0]) > 0: target.append(int(line[0]))\n",
    "        if plotValue and len(line[1]) <= 5 and len(line[1]) > 0: value.append(int(line[1]))\n",
    "        if plotSpeed and len(line[2]) <= 5 and len(line[2]) > 0: speed.append(int(line[2]))\n",
    "        if plotAppliedVoltage and len(line[3]) <= 4 and len(line[3]) > 0: appliedVoltage.append(int(line[3]))\n",
    "        if plotDistanceToTarget and len(line[1]) <= 5 and len(line[0]) <= 5 and len(line[0]) > 0 and len(line[1]) > 0: distanceToTarget.append(int(line[0]) - int(line[1]))\n",
    "        \n",
    "   \n",
    "    if plotTarget: plt.plot(target, label = \"Target Value\")\n",
    "    if plotValue: plt.plot(value, label = \"Actual Value\")\n",
    "    if plotSpeed: plt.plot(speed, label = \"Speed\")\n",
    "    if plotAppliedVoltage: plt.plot(appliedVoltage, label = \"Applied Voltage\")\n",
    "    if plotDistanceToTarget: plt.plot(distanceToTarget, label = \"Distance to Target\")\n",
    "        \n",
    "    plt.plot([0, len(lift1Lines)], [0, 0], \"--\")\n",
    "    \n",
    "    plt.legend()\n",
    "    plt.show()\n",
    " \n",
    "    if outputText: print(\"\\n\")\n",
    "    \n",
    "if useLift2:\n",
    "    plt.figure(figsize = (16,12))\n",
    "    \n",
    "    target = []\n",
    "    value = []\n",
    "    speed = []\n",
    "    appliedVoltage = []\n",
    "    distanceToTarget = []\n",
    "    \n",
    "    for line in lift2Lines:\n",
    "        if outputText: print(line)\n",
    "        line = line.replace(\"\\r\", \"\").split(\" \")\n",
    "        if plotTarget and len(line[0]) <= 5 and len(line[0]) > 0: target.append(int(line[0]))\n",
    "        if plotValue and len(line[1]) <= 5 and len(line[1]) > 0: value.append(int(line[1]))\n",
    "        if plotSpeed and len(line[2]) <= 5 and len(line[2]) > 0: speed.append(int(line[2]))\n",
    "        if plotAppliedVoltage and len(line[3]) <= 4 and len(line[3]) > 0: appliedVoltage.append(int(line[3]))\n",
    "        if plotDistanceToTarget and len(line[1]) <= 5 and len(line[0]) <= 5 and len(line[0]) > 0 and len(line[1]) > 0: distanceToTarget.append(int(line[0]) - int(line[1]))\n",
    "        \n",
    "   \n",
    "    if plotTarget: plt.plot(target, label = \"Target Value\")\n",
    "    if plotValue: plt.plot(value, label = \"Actual Value\")\n",
    "    if plotSpeed: plt.plot(speed, label = \"Speed\")\n",
    "    if plotAppliedVoltage: plt.plot(appliedVoltage, label = \"Applied Voltage\")\n",
    "    if plotDistanceToTarget: plt.plot(distanceToTarget, label = \"Distance to Target\")\n",
    "        \n",
    "    plt.plot([0, len(lift2Lines)], [0, 0], \"--\")\n",
    "    \n",
    "    plt.legend()\n",
    "    plt.show()"
   ]
  },
  {
   "cell_type": "code",
   "execution_count": null,
   "metadata": {
    "collapsed": true
   },
   "outputs": [],
   "source": []
  },
  {
   "cell_type": "code",
   "execution_count": null,
   "metadata": {
    "collapsed": true
   },
   "outputs": [],
   "source": []
  },
  {
   "cell_type": "code",
   "execution_count": null,
   "metadata": {
    "collapsed": true
   },
   "outputs": [],
   "source": []
  },
  {
   "cell_type": "code",
   "execution_count": null,
   "metadata": {
    "collapsed": true
   },
   "outputs": [],
   "source": []
  },
  {
   "cell_type": "code",
   "execution_count": null,
   "metadata": {
    "collapsed": true
   },
   "outputs": [],
   "source": []
  }
 ],
 "metadata": {
  "kernelspec": {
   "display_name": "Python 3",
   "language": "python",
   "name": "python3"
  },
  "language_info": {
   "codemirror_mode": {
    "name": "ipython",
    "version": 3
   },
   "file_extension": ".py",
   "mimetype": "text/x-python",
   "name": "python",
   "nbconvert_exporter": "python",
   "pygments_lexer": "ipython3",
   "version": "3.6.1"
  }
 },
 "nbformat": 4,
 "nbformat_minor": 2
}
